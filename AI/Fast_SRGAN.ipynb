{
  "nbformat": 4,
  "nbformat_minor": 0,
  "metadata": {
    "colab": {
      "name": "Fast-SRGAN.ipynb",
      "provenance": [],
      "collapsed_sections": []
    },
    "kernelspec": {
      "name": "python3",
      "display_name": "Python 3"
    },
    "language_info": {
      "name": "python"
    }
  },
  "cells": [
    {
      "cell_type": "code",
      "metadata": {
        "id": "33a943_OP730"
      },
      "source": [
        "!git clone https://github.com/HasnainRaz/Fast-SRGAN.git"
      ],
      "execution_count": null,
      "outputs": []
    },
    {
      "cell_type": "code",
      "metadata": {
        "id": "LPZEt5azQhfD"
      },
      "source": [
        "%cd Fast-SRGAN/"
      ],
      "execution_count": null,
      "outputs": []
    },
    {
      "cell_type": "code",
      "metadata": {
        "id": "gypfSxifQ_Xq"
      },
      "source": [
        "!pip install -r requirements.txt"
      ],
      "execution_count": null,
      "outputs": []
    },
    {
      "cell_type": "code",
      "metadata": {
        "id": "vaH-npmhhm2e"
      },
      "source": [
        "!python infer.py --image_dir 'path/to/your/image/directory' --output_dir 'path/to/save/super/resolution/images'"
      ],
      "execution_count": null,
      "outputs": []
    }
  ]
}