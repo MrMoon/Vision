{
  "nbformat": 4,
  "nbformat_minor": 0,
  "metadata": {
    "colab": {
      "name": "Fast-SRGAN.ipynb",
      "provenance": [],
      "collapsed_sections": []
    },
    "kernelspec": {
      "name": "python3",
      "display_name": "Python 3"
    },
    "language_info": {
      "name": "python"
    },
    "accelerator": "GPU"
  },
  "cells": [
    {
      "cell_type": "code",
      "metadata": {
        "id": "33a943_OP730"
      },
      "source": [
        "!git clone https://github.com/MrMoon/Fast-SRGAN.git"
      ],
      "execution_count": null,
      "outputs": []
    },
    {
      "cell_type": "code",
      "metadata": {
        "id": "LPZEt5azQhfD"
      },
      "source": [
        "%cd Fast-SRGAN/"
      ],
      "execution_count": null,
      "outputs": []
    },
    {
      "cell_type": "code",
      "metadata": {
        "id": "gypfSxifQ_Xq"
      },
      "source": [
        "!pip install -r requirements.txt"
      ],
      "execution_count": null,
      "outputs": []
    },
    {
      "cell_type": "code",
      "metadata": {
        "id": "k_Ua2Y8NqPKe"
      },
      "source": [
        "%cd tools/\n",
        "!python video_to_image.py --input $VIDEO_PATH\n",
        "%cd ../"
      ],
      "execution_count": null,
      "outputs": []
    },
    {
      "cell_type": "code",
      "metadata": {
        "id": "vaH-npmhhm2e"
      },
      "source": [
        "!python infer.py --image_dir 'tools/' --output_dir 'output/'"
      ],
      "execution_count": null,
      "outputs": []
    }
  ]
}