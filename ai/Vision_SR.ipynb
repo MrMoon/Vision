{
  "nbformat": 4,
  "nbformat_minor": 0,
  "metadata": {
    "colab": {
      "name": "Vision-SR.ipynb",
      "provenance": []
    },
    "kernelspec": {
      "name": "python3",
      "display_name": "Python 3"
    },
    "language_info": {
      "name": "python"
    }
  },
  "cells": [
    {
      "cell_type": "code",
      "metadata": {
        "id": "U8_c-mBtoN2c"
      },
      "source": [
        "!git clone https://github.com/MrMoon/Fast-SRGAN.git"
      ],
      "execution_count": null,
      "outputs": []
    },
    {
      "cell_type": "code",
      "metadata": {
        "id": "XHxnEgHIoUoN"
      },
      "source": [
        "%cd Fast-SRGAN/\n",
        "!pip install -r requirements.txt"
      ],
      "execution_count": null,
      "outputs": []
    },
    {
      "cell_type": "code",
      "metadata": {
        "id": "fAef3-ASoY5k"
      },
      "source": [
        "!python infer.py --image_dir 'path_to_your_images_input/' --output_dir 'path_to_your_images_output/'"
      ],
      "execution_count": null,
      "outputs": []
    }
  ]
}